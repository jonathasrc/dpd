{
 "cells": [
  {
   "cell_type": "markdown",
   "metadata": {
    "id": "3DM1Z34yz6Gj"
   },
   "source": [
    "# Imports"
   ]
  },
  {
   "cell_type": "code",
   "execution_count": 14,
   "metadata": {
    "colab": {
     "base_uri": "https://localhost:8080/"
    },
    "id": "ccGLA6hLoFb_",
    "outputId": "822d46bc-3e01-4c4a-afce-4cf132dcbd41"
   },
   "outputs": [],
   "source": [
    "import cv2\n",
    "import math\n",
    "import numpy as np\n",
    "from matplotlib import pyplot as plt\n"
   ]
  },
  {
   "cell_type": "markdown",
   "metadata": {
    "id": "4TT9QXyoz37e"
   },
   "source": [
    "# Extract PEN"
   ]
  },
  {
   "cell_type": "code",
   "execution_count": 15,
   "metadata": {},
   "outputs": [],
   "source": [
    "# load and resize img\n",
    "img = cv2.imread('/home/dom/git/paper/source_code/exam_1.jpg', cv2.IMREAD_UNCHANGED)\n",
    "# img = cv2.imread('/home/dom/git/paper/source_code/exam_1.jpg', 1)\n",
    "width = 500\n",
    "height = 500\n",
    "dim = (width, height)\n",
    "  \n",
    "# resize image\n",
    "img = cv2.resize(img, dim, interpolation = cv2.INTER_AREA)"
   ]
  },
  {
   "cell_type": "code",
   "execution_count": 16,
   "metadata": {},
   "outputs": [
    {
     "name": "stderr",
     "output_type": "stream",
     "text": [
      "/tmp/ipykernel_49419/2221481387.py:52: RuntimeWarning: overflow encountered in ubyte_scalars\n",
      "  difGB = abs(img[x,y][1] - img[x,y][2])\n"
     ]
    },
    {
     "data": {
      "text/plain": [
       "True"
      ]
     },
     "execution_count": 16,
     "metadata": {},
     "output_type": "execute_result"
    }
   ],
   "source": [
    "BLUR_RADIUS = 5\n",
    "\n",
    "img = cv2.blur(img, (BLUR_RADIUS,BLUR_RADIUS))\n",
    "img = cv2.medianBlur(img, 11)\n",
    "\n",
    "cv2.imwrite('output/extract_pen/img_filter.jpg', img)\n",
    "#cv2.imshow('filter img', img)\n",
    "#cv2.waitKey(0)\n",
    "\n",
    "rows, cols = img.shape[:2]\n",
    "for x in range(0, rows -1):\n",
    "  for y in range(0, cols -1):\n",
    "\n",
    "    if img[x, y][0] > 200 and img[x, y][1] > 200 and img [x, y][2] > 200:\n",
    "      img[x, y][0] = 255\n",
    "      img[x, y][1] = 255\n",
    "      img[x, y][2] = 255\n",
    "\n",
    "\n",
    "# OPERAÇÃO 1\n",
    "#EROSION_TYPE = 'MORPH_RECT' # MORPH_ELLIPSE; MORPH_RECT; MORPH_CROSS\n",
    "erosion_type = 'MORPH_RECT' # MORPH_ELLIPSE; MORPH_RECT; MORPH_CROSS\n",
    "erosion_size = 1 \n",
    "element = cv2.getStructuringElement(\n",
    "    cv2.MORPH_RECT  ,\n",
    "    (2 * erosion_size + 1, 2 * erosion_size + 1),\n",
    "    (erosion_size, erosion_size)\n",
    ")\n",
    "\n",
    "img = cv2.dilate(img, element)\n",
    "img = cv2.dilate(img, element)\n",
    "\n",
    "cv2.imwrite('output/extract_pen/img_operacao_1.jpg', img)\n",
    "\n",
    "# OPERAÇÃO 2\n",
    "erosion_size = 2\n",
    "\n",
    "element1 = cv2.getStructuringElement(\n",
    "    cv2.MORPH_RECT  ,\n",
    "    (2 * erosion_size + 1, 2 * erosion_size + 1),\n",
    "    (erosion_size, erosion_size)\n",
    ")\n",
    "\n",
    "img = cv2.erode(img, element1)\n",
    " \n",
    "for y in range(0, rows -1):\n",
    "\n",
    "  for x in range(0, cols -1 ):\n",
    "    # TODO: DESCOBRIR O QUE SIGNIFICA ESSA OPERAÇAO\n",
    "    difRG = abs(img[x,y][0] - img[x,y][1])\n",
    "    difRB = abs(img[x,y][0] - img[x,y][2])\n",
    "    difGB = abs(img[x,y][1] - img[x,y][2])\n",
    "\n",
    "    if(difGB < 30 and difRB < 30 and difRG < 40):\n",
    "      img[x,y][0] = 255\n",
    "      img[x,y][1] = 255\n",
    "      img[x,y][2] = 255\n",
    "\n",
    "img = cv2.blur(img, (BLUR_RADIUS, BLUR_RADIUS))\n",
    "img = cv2.medianBlur(img, 3)\n",
    "\n",
    "cv2.imwrite('output/extract_pen/img_operacao_2.jpg', img)"
   ]
  },
  {
   "cell_type": "markdown",
   "metadata": {
    "id": "wVwozs-aYK2S"
   },
   "source": [
    "# Extract Template"
   ]
  },
  {
   "cell_type": "code",
   "execution_count": 17,
   "metadata": {},
   "outputs": [],
   "source": [
    "# load and resize img\n",
    "img = cv2.imread('/home/dom/git/paper/source_code/exam_1.jpg', cv2.IMREAD_UNCHANGED)\n",
    "# img = cv2.imread('/home/dom/git/paper/source_code/exam_1.jpg', 1)\n",
    "width = 500\n",
    "height = 500\n",
    "dim = (width, height)\n",
    "  \n",
    "# resize image\n",
    "img = cv2.resize(img, dim, interpolation = cv2.INTER_AREA)"
   ]
  },
  {
   "cell_type": "code",
   "execution_count": 18,
   "metadata": {
    "colab": {
     "base_uri": "https://localhost:8080/",
     "height": 1000
    },
    "id": "CwSRw3OeZk_J",
    "outputId": "5a04d501-1220-475d-aeb8-a49affbb33bd"
   },
   "outputs": [
    {
     "data": {
      "text/plain": [
       "True"
      ]
     },
     "execution_count": 18,
     "metadata": {},
     "output_type": "execute_result"
    }
   ],
   "source": [
    "BLUR_RADIUS = 5\n",
    "img = cv2.blur(img,(BLUR_RADIUS, BLUR_RADIUS))\n",
    "\n",
    "rows, cols = img.shape[:2]\n",
    "\n",
    "for y in range(rows - 1):\n",
    "  for x in range(cols - 1):\n",
    "    color = img.copy()\n",
    "    if color[x, y][0] < 120 and color[x, y][1] < 120 and color[x, y][2] < 120:\n",
    "      img[x, y][0] = 0\n",
    "      img[x, y][1] = 0\n",
    "      img[x, y][2] = 0\n",
    "    \n",
    "    else:\n",
    "      img[x, y][0] = 255\n",
    "      img[x, y][1] = 255\n",
    "      img[x, y][2] = 255\n",
    "\n",
    "\n",
    "# OPERACÃO 1\n",
    "erosion_type = 'MORPH_RECT' # MORPH_ELLIPSE; MORPH_CROSS\n",
    "erosion_size = 2\n",
    "\n",
    "element = cv2.getStructuringElement(\n",
    "    cv2.MORPH_RECT, (2 * erosion_size + 1, 2 * erosion_size + 1),\n",
    "    ( erosion_size, erosion_size)\n",
    ")\n",
    "\n",
    "img = cv2.erode(img, element)\n",
    "\n",
    "cv2.imwrite('output/extract_template/template_1.jpg', img)\n",
    "\n",
    "# OPERAÇÃO  2\n",
    "# Apply the dilate and erosin operations to remove noise and debris in the scanned image\n",
    "erosion_size = 1\n",
    "\n",
    "element1 = cv2.getStructuringElement(\n",
    "    cv2.MORPH_RECT, (2 * erosion_size + 1, 2 * erosion_size + 1),\n",
    "    ( erosion_size, erosion_size)\n",
    ")\n",
    "\n",
    "img = cv2.dilate(img, element1)\n",
    "img = cv2.dilate(img, element1)\n",
    "\n",
    "img = cv2.blur(img, (3 * BLUR_RADIUS, 3 * BLUR_RADIUS))\n",
    "\n",
    "img_gray = cv2.cvtColor(img, cv2.COLOR_BGR2GRAY)\n",
    "\n",
    "cv2.imwrite('output/extract_template/template_2.jpg', img)\n",
    "\n",
    "element2 = cv2.getStructuringElement(\n",
    "    cv2.MORPH_RECT,\n",
    "    (2 * erosion_size + 1, 2 * erosion_size + 1),\n",
    "    (erosion_size, erosion_size)\n",
    ")\n",
    "# OTSU THRESHOLD IS USE TO REMOVE THE NOISE AND BACKGROUND\n",
    "# PARAMETRO 1 : IMAGEM EM CINZA\n",
    "# PARAMETRO 2 : VALOR LIMIAR, RESOLVIDO TENTATIVA E ERRO\n",
    "# PARAMETRO 3 : INTENSIADADE QUE OS PIXELS VAO RECEBER NOS VALORES SUPERIOR AO LIMIAR\n",
    "# PARAMETRO 3 : METODO QUE SERÁ APLICADO\n",
    "ret, img_thresh = cv2.threshold(img_gray, 0, 255, cv2.THRESH_BINARY | cv2.THRESH_OTSU)  \n",
    "img_thresh = cv2.dilate(img_thresh, element2)\n",
    "img_thresh = cv2.dilate(img_thresh, element2)\n",
    "img_thresh = cv2.erode(img_thresh, element2)\n",
    "img_thresh = cv2.erode(img_thresh, element2)\n",
    "img_thresh = cv2.erode(img_thresh, element2)\n",
    "\n",
    "cv2.imwrite('output/extract_template/template_3.jpg', img_thresh)\n",
    "\n"
   ]
  },
  {
   "cell_type": "markdown",
   "metadata": {
    "id": "OlmGKslO02Yf"
   },
   "source": [
    "# Extract Feats"
   ]
  },
  {
   "cell_type": "code",
   "execution_count": 19,
   "metadata": {
    "id": "yOHlsEs4-4EL"
   },
   "outputs": [],
   "source": [
    "\n",
    "\n",
    "\n",
    "# rotation \n",
    "def rotation(vert, yp, xp, teta):\n",
    "  xe = np.float128(((vert[x] - xp) * (math.cos(teta * math.pi/180))) -\n",
    "                  ((vert[y] - yp) * (math.sin(teta * math.pi / 180)))) + xp\n",
    "  ye = np.float128(((vert[x] - xp) * (math.sin(teta * math.pi/180))) +\n",
    "                  ((vert[y] - yp) * (math.cos(teta * math.pi / 180)))) + yp\n",
    "                \n",
    "  vert = {x:xe, y:ye}\n",
    "  \n",
    "\n",
    "# Verify the central pixel\n",
    "def verify(img_, y, x):\n",
    "  cont = 0\n",
    "  for i in range(y-1, y+2):\n",
    "    for j in range(x-1, x +2):\n",
    "      if(img_[i,j] == 0):\n",
    "        cont += 1 \n",
    "\n",
    "  return cont == 2\n",
    "  \n",
    "# find the spiral origem\n",
    "def origem(img_, oy, ox):\n",
    "  lines = int(oy + 100)\n",
    "  cols = int(ox + 100)\n",
    "  i, j = 0, 0\n",
    "  com_line = int(oy - 100)\n",
    "  com_col = int(ox - 100)\n",
    "\n",
    "  for i in range(com_line, lines):\n",
    "    for j in range(com_col, cols):\n",
    "      if(img_[i,j] == 0):\n",
    "        if(verify(img_,i, j)):\n",
    "          ox = j\n",
    "          oy = i\n",
    "\n",
    "def invert(start , end):\n",
    "  tmp = start\n",
    "  start = end\n",
    "  end = tmp\n",
    "\n",
    "\n",
    "def lineIDDA(img , yi, xi, yf, xf, vetor):\n",
    "\n",
    "  rows, cols = img.shape[:2]\n",
    "  erro, q = 0, 0\n",
    "  quantidade = 0\n",
    "  deltax = xf - xi\n",
    "  deltay = yf - yi\n",
    "  list_vertices = []\n",
    "\n",
    "  # When ys > ye the line is diagnoal to down. For this is\n",
    "  # necessary invert the points\n",
    "  # When deltax = 0 and deltay < 0, the line is in vertical\n",
    "  # to down. For this is necessary invert ys with ye\n",
    "  if((yi > yf) or ((deltax == 0) and (deltay < 0))):\n",
    "    invert(xi, xf)\n",
    "    invert(yi, yf)\n",
    "    deltax = xf - xi\n",
    "    deltay = yf - xi\n",
    "\n",
    "  x = xi\n",
    "  y = yi\n",
    "\n",
    "  # 'quant' denotes the maximum number of ploted points\n",
    "  if (abs(deltax) > abs(deltay)):\n",
    "    quantidade = abs(deltax)\n",
    "  else:\n",
    "    quantidae = abs(deltay) \n",
    "  \n",
    "  get_point = True\n",
    "  entered = False\n",
    "  finished = False\n",
    "  walk = 1000 # clean more pixels\n",
    "  try: \n",
    "    \n",
    "    while q <= quantidade and walk: # While have points to plot\n",
    "\n",
    "      if(x >= 0 and y >= 0 and x < cols and y < rows):\n",
    "        \n",
    "        if(not entered and img[y, x] == 0):  # find a spiral\n",
    "          entered = True\n",
    "          if(get_point):\n",
    "            get_point = False\n",
    "            vert.x = x\n",
    "            vert.y = y\n",
    "            list_vertices.append(vert)\n",
    "          \n",
    "          img[y, x] = 255\n",
    "\n",
    "      if(entered):\n",
    "        walk -= 1\n",
    "        if(x >= 0 and y >= 0 and x < cols and y < rows):\n",
    "          img[y, x] = 255 # Set the color white to avoid reprocessings\n",
    "\n",
    "      if((deltax >= 0) and (deltay >= 0) and (deltax >= deltay)): # 1 oct\n",
    "        if((erro < 0) or (deltay == 0)):\n",
    "          x += 1\n",
    "          erro = erro + deltay\n",
    "        else:\n",
    "          x += 1\n",
    "          y += 1\n",
    "          erro = erro + deltay - deltax\n",
    "      elif ((deltax >= 0) and (deltay >= 0) and (deltay > deltax)): # 2 oct\n",
    "        if (erro < 0):\n",
    "          x += 1\n",
    "          y += 1\n",
    "          erro = erro + deltay - deltax\n",
    "        else:\n",
    "          y += 1\n",
    "          erro = erro - deltax\n",
    "      elif ((deltay >= 0) and (deltax < 0) and (-deltax >= deltay)): # 4 oct\n",
    "        if((erro < 0) or (deltay == 0)):\n",
    "          x += 1\n",
    "          erro = erro + deltay\n",
    "        else:\n",
    "          x -= 1\n",
    "          y += 1\n",
    "          erro = erro + deltax + deltay\n",
    "      elif ((deltay > 0) and (deltax < 0) and (deltay > -deltax)): # 3 oct\n",
    "        if(erro < 0): \n",
    "          x -= 1\n",
    "          y += 1\n",
    "          erro = erro + deltax + deltay\n",
    "        else:\n",
    "          y += 1\n",
    "          erro = erro + deltax\n",
    "      elif ((deltay > 0) and (deltax < 0) and (deltay > -deltax)): # 8 oct\n",
    "        if(erro < 0): \n",
    "          x -= 1\n",
    "          erro = erro + deltay\n",
    "        else:\n",
    "          x += 1\n",
    "          y -= 1\n",
    "          erro = erro + abs(deltay) - deltax\n",
    "      elif ((deltax >= 0) and (deltay < 0) and (-deltay > deltax)): # 7 oct\n",
    "        if(erro < 0): \n",
    "          x += 1\n",
    "          y -= 1\n",
    "          erro = erro - deltay - deltax\n",
    "        else:\n",
    "          y -= 1\n",
    "          erro = erro - deltax\n",
    "      elif ((deltay < 0) and (deltax < 0) and (-deltay > -deltax)): # 3 oct\n",
    "        if(erro < 0): \n",
    "          x -= 1\n",
    "          y -= 1\n",
    "          erro = erro + deltax - deltay\n",
    "        else:\n",
    "          y -= 1\n",
    "          erro = erro + deltax\n",
    "      elif ((deltay < 0) and (deltax < 0) and (-deltax >= -deltay)): # 4 oct\n",
    "        if(erro < 0):\n",
    "          x -= 1\n",
    "          erro = erro - deltay\n",
    "        else:\n",
    "          x -= 1\n",
    "          y += 1\n",
    "          erro = erro + deltax - deltay\n",
    "    \n",
    "      q += int(1)\n",
    "  except:\n",
    "    print(f'Something else went wrong walk = {walk}, quantidade = {quantidade}')\n",
    "    \n",
    "    \n",
    "\n",
    "\n",
    "    \n",
    "\n",
    "\n",
    "\n",
    "  "
   ]
  },
  {
   "cell_type": "code",
   "execution_count": 20,
   "metadata": {},
   "outputs": [],
   "source": [
    "# load and resize img\n",
    "img = cv2.imread('/home/dom/git/paper/source_code/exam_1.jpg', cv2.IMREAD_COLOR)\n",
    "img1 = cv2.imread('output/extract_pen/img_operacao_2.jpg',cv2.IMREAD_COLOR)\n",
    "# img = cv2.imread('/home/dom/git/paper/source_code/exam_1.jpg', 1)\n",
    "width = 500\n",
    "height = 500\n",
    "dim = (width, height)\n",
    "  \n",
    "# resize image\n",
    "img = cv2.resize(img, dim, interpolation = cv2.INTER_AREA)\n"
   ]
  },
  {
   "cell_type": "code",
   "execution_count": 23,
   "metadata": {
    "colab": {
     "base_uri": "https://localhost:8080/",
     "height": 1000
    },
    "id": "VeKWpQuZ1PKJ",
    "outputId": "020d8c97-d5ec-49ca-c8a2-a5e2bcd8fce8"
   },
   "outputs": [
    {
     "data": {
      "text/plain": [
       "True"
      ]
     },
     "execution_count": 23,
     "metadata": {},
     "output_type": "execute_result"
    }
   ],
   "source": [
    "import cv2\n",
    "\n",
    "# lista de dicionarios com raio e angulo\n",
    "radius_angle = []\n",
    "radius_rigin = []\n",
    "difradial = []\n",
    "\n",
    "# lista de dicionarios com vertices x, y\n",
    "ptos_original = []\n",
    "ptos_desenhada = []\n",
    "tremor_relativo = []\n",
    "\n",
    "# lista de np.float(128)\n",
    "tremor = []\n",
    "\n",
    "# dicionario com valores de raios e anglus\n",
    "ra = {\"radius\": 0, 'angle': 0}\n",
    "ra_origin = {\"radius\": 0, 'angle': 0}\n",
    "\n",
    "# recebe np.float128()\n",
    "raiz, atangente = 0, 0\n",
    "\n",
    "vert = {\"x\": 0, \"y\": 0}\n",
    "\n",
    "# gray scale\n",
    "#img_ = np.zeros((cols, rows), dtype='uint8')\n",
    "img_gray = img.copy()\n",
    "img_gray = cv2.cvtColor(img_gray, cv2.COLOR_BGR2GRAY)\n",
    "ret, img_gray = cv2.threshold(img_gray, 220, 255, 0)\n",
    "cv2.ximgproc.thinning(img_gray, cv2.ximgproc.THINNING_ZHANGSUEN)\n",
    "# cv2.ximgproc.thinning(img_gray, cv2.ximgproc.THINNING_GUOHALL)\n",
    "\n",
    "# cv2.imwrite('output/extract_feats/extract.jpg', img_gray)\n",
    "\n",
    "\n",
    "# Spiral pen\n",
    "img1_= img1.copy()\n",
    "rows, cols = img1.shape[:2]\n",
    "\n",
    "img1_gray = cv2.cvtColor(img1_, cv2.COLOR_BGR2GRAY)\n",
    "#cv2.imwrite('output/extract_feats/extract_pen_gray.jpg', img1_gray)\n",
    "ret, img1_gray = cv2.threshold(img1_gray, 220, 255, 0)\n",
    "# cv2.imwrite('output/extract_feats/extract_pen_thresh.jpg', img1_gray)\n",
    "img1_gray = cv2.ximgproc.thinning(img1_gray, cv2.ximgproc.THINNING_ZHANGSUEN)\n",
    "# cv2.imwrite('output/extract_feats/extract_pen_thinning.jpg', img1_gray)\n",
    "\n",
    "yc = img_gray.shape[0]/2\n",
    "xc = img_gray.shape[1]/2\n",
    "\n",
    "cv2.imwrite('output/tmp/1.jpg', img_gray)\n",
    "origem(img1_gray, yc, xc)\n",
    "cv2.imwrite('output/tmp/2.jpg', img_gray)\n",
    "\n",
    "\n"
   ]
  }
 ],
 "metadata": {
  "colab": {
   "collapsed_sections": [],
   "provenance": [],
   "toc_visible": true
  },
  "kernelspec": {
   "display_name": "Python 3.9.12 ('base')",
   "language": "python",
   "name": "python3"
  },
  "language_info": {
   "codemirror_mode": {
    "name": "ipython",
    "version": 3
   },
   "file_extension": ".py",
   "mimetype": "text/x-python",
   "name": "python",
   "nbconvert_exporter": "python",
   "pygments_lexer": "ipython3",
   "version": "3.9.12"
  },
  "vscode": {
   "interpreter": {
    "hash": "7ef6a50f00e4d0abc1e097ba2243d468e301bca81fb18762cb14174fc3e63245"
   }
  }
 },
 "nbformat": 4,
 "nbformat_minor": 4
}
